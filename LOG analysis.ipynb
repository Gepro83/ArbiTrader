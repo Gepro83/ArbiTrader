{
 "cells": [
  {
   "cell_type": "code",
   "execution_count": 1,
   "metadata": {},
   "outputs": [],
   "source": [
    "import pandas as pd"
   ]
  },
  {
   "cell_type": "code",
   "execution_count": 3,
   "metadata": {},
   "outputs": [],
   "source": [
    "data = pd.read_csv(\"LOG.csv\", sep=\";\")"
   ]
  },
  {
   "cell_type": "code",
   "execution_count": 4,
   "metadata": {},
   "outputs": [],
   "source": [
    "data = data[data[\"SPREAD\"] > 0.04]"
   ]
  },
  {
   "cell_type": "code",
   "execution_count": 5,
   "metadata": {},
   "outputs": [
    {
     "data": {
      "text/html": [
       "<div>\n",
       "<style scoped>\n",
       "    .dataframe tbody tr th:only-of-type {\n",
       "        vertical-align: middle;\n",
       "    }\n",
       "\n",
       "    .dataframe tbody tr th {\n",
       "        vertical-align: top;\n",
       "    }\n",
       "\n",
       "    .dataframe thead th {\n",
       "        text-align: right;\n",
       "    }\n",
       "</style>\n",
       "<table border=\"1\" class=\"dataframe\">\n",
       "  <thead>\n",
       "    <tr style=\"text-align: right;\">\n",
       "      <th></th>\n",
       "      <th>TIMESTAMP</th>\n",
       "      <th>SPREAD</th>\n",
       "      <th>AMOUNT</th>\n",
       "      <th>BUY_PRICE</th>\n",
       "      <th>BUY_EXCHANGE</th>\n",
       "      <th>SELL_PRICE</th>\n",
       "      <th>SELL_EXCHANGE</th>\n",
       "      <th>PAIR</th>\n",
       "    </tr>\n",
       "  </thead>\n",
       "  <tbody>\n",
       "    <tr>\n",
       "      <td>447162</td>\n",
       "      <td>1611219496308</td>\n",
       "      <td>0.040061</td>\n",
       "      <td>0.017839</td>\n",
       "      <td>27547.05</td>\n",
       "      <td>Binance</td>\n",
       "      <td>28650.6</td>\n",
       "      <td>Kraken</td>\n",
       "      <td>BTC_EUR</td>\n",
       "    </tr>\n",
       "    <tr>\n",
       "      <td>447285</td>\n",
       "      <td>1611219496331</td>\n",
       "      <td>0.040441</td>\n",
       "      <td>0.250000</td>\n",
       "      <td>27536.97</td>\n",
       "      <td>Bitstamp</td>\n",
       "      <td>28650.6</td>\n",
       "      <td>Kraken</td>\n",
       "      <td>BTC_EUR</td>\n",
       "    </tr>\n",
       "    <tr>\n",
       "      <td>447286</td>\n",
       "      <td>1611219496331</td>\n",
       "      <td>0.040434</td>\n",
       "      <td>0.050000</td>\n",
       "      <td>27536.97</td>\n",
       "      <td>Bitstamp</td>\n",
       "      <td>28650.4</td>\n",
       "      <td>Kraken</td>\n",
       "      <td>BTC_EUR</td>\n",
       "    </tr>\n",
       "    <tr>\n",
       "      <td>447287</td>\n",
       "      <td>1611219496331</td>\n",
       "      <td>0.040220</td>\n",
       "      <td>1.391624</td>\n",
       "      <td>27542.63</td>\n",
       "      <td>Bitstamp</td>\n",
       "      <td>28650.4</td>\n",
       "      <td>Kraken</td>\n",
       "      <td>BTC_EUR</td>\n",
       "    </tr>\n",
       "    <tr>\n",
       "      <td>447288</td>\n",
       "      <td>1611219496331</td>\n",
       "      <td>0.040217</td>\n",
       "      <td>0.608376</td>\n",
       "      <td>27542.63</td>\n",
       "      <td>Bitstamp</td>\n",
       "      <td>28650.3</td>\n",
       "      <td>Kraken</td>\n",
       "      <td>BTC_EUR</td>\n",
       "    </tr>\n",
       "  </tbody>\n",
       "</table>\n",
       "</div>"
      ],
      "text/plain": [
       "            TIMESTAMP    SPREAD    AMOUNT  BUY_PRICE BUY_EXCHANGE  SELL_PRICE  \\\n",
       "447162  1611219496308  0.040061  0.017839   27547.05      Binance     28650.6   \n",
       "447285  1611219496331  0.040441  0.250000   27536.97     Bitstamp     28650.6   \n",
       "447286  1611219496331  0.040434  0.050000   27536.97     Bitstamp     28650.4   \n",
       "447287  1611219496331  0.040220  1.391624   27542.63     Bitstamp     28650.4   \n",
       "447288  1611219496331  0.040217  0.608376   27542.63     Bitstamp     28650.3   \n",
       "\n",
       "       SELL_EXCHANGE     PAIR  \n",
       "447162        Kraken  BTC_EUR  \n",
       "447285        Kraken  BTC_EUR  \n",
       "447286        Kraken  BTC_EUR  \n",
       "447287        Kraken  BTC_EUR  \n",
       "447288        Kraken  BTC_EUR  "
      ]
     },
     "execution_count": 5,
     "metadata": {},
     "output_type": "execute_result"
    }
   ],
   "source": [
    "data.head()"
   ]
  },
  {
   "cell_type": "code",
   "execution_count": 6,
   "metadata": {},
   "outputs": [],
   "source": [
    "data[\"DATE\"] = pd.to_datetime(data[\"TIMESTAMP\"], unit=\"ms\")"
   ]
  },
  {
   "cell_type": "code",
   "execution_count": 8,
   "metadata": {},
   "outputs": [],
   "source": [
    "data[\"MINUTE\"] = data[\"DATE\"].dt.to_period('T')"
   ]
  },
  {
   "cell_type": "code",
   "execution_count": 9,
   "metadata": {},
   "outputs": [
    {
     "data": {
      "text/html": [
       "<div>\n",
       "<style scoped>\n",
       "    .dataframe tbody tr th:only-of-type {\n",
       "        vertical-align: middle;\n",
       "    }\n",
       "\n",
       "    .dataframe tbody tr th {\n",
       "        vertical-align: top;\n",
       "    }\n",
       "\n",
       "    .dataframe thead th {\n",
       "        text-align: right;\n",
       "    }\n",
       "</style>\n",
       "<table border=\"1\" class=\"dataframe\">\n",
       "  <thead>\n",
       "    <tr style=\"text-align: right;\">\n",
       "      <th></th>\n",
       "      <th>TIMESTAMP</th>\n",
       "      <th>SPREAD</th>\n",
       "      <th>AMOUNT</th>\n",
       "      <th>BUY_PRICE</th>\n",
       "      <th>BUY_EXCHANGE</th>\n",
       "      <th>SELL_PRICE</th>\n",
       "      <th>SELL_EXCHANGE</th>\n",
       "      <th>PAIR</th>\n",
       "      <th>DATE</th>\n",
       "      <th>MINUTE</th>\n",
       "    </tr>\n",
       "  </thead>\n",
       "  <tbody>\n",
       "    <tr>\n",
       "      <td>447162</td>\n",
       "      <td>1611219496308</td>\n",
       "      <td>0.040061</td>\n",
       "      <td>0.017839</td>\n",
       "      <td>27547.05</td>\n",
       "      <td>Binance</td>\n",
       "      <td>28650.6</td>\n",
       "      <td>Kraken</td>\n",
       "      <td>BTC_EUR</td>\n",
       "      <td>2021-01-21 08:58:16.308</td>\n",
       "      <td>2021-01-21 08:58</td>\n",
       "    </tr>\n",
       "    <tr>\n",
       "      <td>447285</td>\n",
       "      <td>1611219496331</td>\n",
       "      <td>0.040441</td>\n",
       "      <td>0.250000</td>\n",
       "      <td>27536.97</td>\n",
       "      <td>Bitstamp</td>\n",
       "      <td>28650.6</td>\n",
       "      <td>Kraken</td>\n",
       "      <td>BTC_EUR</td>\n",
       "      <td>2021-01-21 08:58:16.331</td>\n",
       "      <td>2021-01-21 08:58</td>\n",
       "    </tr>\n",
       "    <tr>\n",
       "      <td>447286</td>\n",
       "      <td>1611219496331</td>\n",
       "      <td>0.040434</td>\n",
       "      <td>0.050000</td>\n",
       "      <td>27536.97</td>\n",
       "      <td>Bitstamp</td>\n",
       "      <td>28650.4</td>\n",
       "      <td>Kraken</td>\n",
       "      <td>BTC_EUR</td>\n",
       "      <td>2021-01-21 08:58:16.331</td>\n",
       "      <td>2021-01-21 08:58</td>\n",
       "    </tr>\n",
       "    <tr>\n",
       "      <td>447287</td>\n",
       "      <td>1611219496331</td>\n",
       "      <td>0.040220</td>\n",
       "      <td>1.391624</td>\n",
       "      <td>27542.63</td>\n",
       "      <td>Bitstamp</td>\n",
       "      <td>28650.4</td>\n",
       "      <td>Kraken</td>\n",
       "      <td>BTC_EUR</td>\n",
       "      <td>2021-01-21 08:58:16.331</td>\n",
       "      <td>2021-01-21 08:58</td>\n",
       "    </tr>\n",
       "    <tr>\n",
       "      <td>447288</td>\n",
       "      <td>1611219496331</td>\n",
       "      <td>0.040217</td>\n",
       "      <td>0.608376</td>\n",
       "      <td>27542.63</td>\n",
       "      <td>Bitstamp</td>\n",
       "      <td>28650.3</td>\n",
       "      <td>Kraken</td>\n",
       "      <td>BTC_EUR</td>\n",
       "      <td>2021-01-21 08:58:16.331</td>\n",
       "      <td>2021-01-21 08:58</td>\n",
       "    </tr>\n",
       "  </tbody>\n",
       "</table>\n",
       "</div>"
      ],
      "text/plain": [
       "            TIMESTAMP    SPREAD    AMOUNT  BUY_PRICE BUY_EXCHANGE  SELL_PRICE  \\\n",
       "447162  1611219496308  0.040061  0.017839   27547.05      Binance     28650.6   \n",
       "447285  1611219496331  0.040441  0.250000   27536.97     Bitstamp     28650.6   \n",
       "447286  1611219496331  0.040434  0.050000   27536.97     Bitstamp     28650.4   \n",
       "447287  1611219496331  0.040220  1.391624   27542.63     Bitstamp     28650.4   \n",
       "447288  1611219496331  0.040217  0.608376   27542.63     Bitstamp     28650.3   \n",
       "\n",
       "       SELL_EXCHANGE     PAIR                    DATE            MINUTE  \n",
       "447162        Kraken  BTC_EUR 2021-01-21 08:58:16.308  2021-01-21 08:58  \n",
       "447285        Kraken  BTC_EUR 2021-01-21 08:58:16.331  2021-01-21 08:58  \n",
       "447286        Kraken  BTC_EUR 2021-01-21 08:58:16.331  2021-01-21 08:58  \n",
       "447287        Kraken  BTC_EUR 2021-01-21 08:58:16.331  2021-01-21 08:58  \n",
       "447288        Kraken  BTC_EUR 2021-01-21 08:58:16.331  2021-01-21 08:58  "
      ]
     },
     "execution_count": 9,
     "metadata": {},
     "output_type": "execute_result"
    }
   ],
   "source": [
    "data.head()"
   ]
  },
  {
   "cell_type": "code",
   "execution_count": 27,
   "metadata": {},
   "outputs": [],
   "source": [
    "grouped = data[[\"BUY_EXCHANGE\", \"SELL_EXCHANGE\", \"PAIR\", \"MINUTE\", \"SPREAD\"]].groupby([\"BUY_EXCHANGE\", \"SELL_EXCHANGE\", \"PAIR\", \"MINUTE\"]).describe()"
   ]
  },
  {
   "cell_type": "code",
   "execution_count": 28,
   "metadata": {},
   "outputs": [
    {
     "data": {
      "text/html": [
       "<div>\n",
       "<style scoped>\n",
       "    .dataframe tbody tr th:only-of-type {\n",
       "        vertical-align: middle;\n",
       "    }\n",
       "\n",
       "    .dataframe tbody tr th {\n",
       "        vertical-align: top;\n",
       "    }\n",
       "\n",
       "    .dataframe thead tr th {\n",
       "        text-align: left;\n",
       "    }\n",
       "\n",
       "    .dataframe thead tr:last-of-type th {\n",
       "        text-align: right;\n",
       "    }\n",
       "</style>\n",
       "<table border=\"1\" class=\"dataframe\">\n",
       "  <thead>\n",
       "    <tr>\n",
       "      <th></th>\n",
       "      <th></th>\n",
       "      <th></th>\n",
       "      <th></th>\n",
       "      <th colspan=\"8\" halign=\"left\">SPREAD</th>\n",
       "    </tr>\n",
       "    <tr>\n",
       "      <th></th>\n",
       "      <th></th>\n",
       "      <th></th>\n",
       "      <th></th>\n",
       "      <th>count</th>\n",
       "      <th>mean</th>\n",
       "      <th>std</th>\n",
       "      <th>min</th>\n",
       "      <th>25%</th>\n",
       "      <th>50%</th>\n",
       "      <th>75%</th>\n",
       "      <th>max</th>\n",
       "    </tr>\n",
       "    <tr>\n",
       "      <th>BUY_EXCHANGE</th>\n",
       "      <th>SELL_EXCHANGE</th>\n",
       "      <th>PAIR</th>\n",
       "      <th>MINUTE</th>\n",
       "      <th></th>\n",
       "      <th></th>\n",
       "      <th></th>\n",
       "      <th></th>\n",
       "      <th></th>\n",
       "      <th></th>\n",
       "      <th></th>\n",
       "      <th></th>\n",
       "    </tr>\n",
       "  </thead>\n",
       "  <tbody>\n",
       "    <tr>\n",
       "      <td rowspan=\"5\" valign=\"top\">Binance</td>\n",
       "      <td rowspan=\"5\" valign=\"top\">Kraken</td>\n",
       "      <td rowspan=\"5\" valign=\"top\">BTC_EUR</td>\n",
       "      <td>2021-01-21 08:58</td>\n",
       "      <td>340.0</td>\n",
       "      <td>0.040991</td>\n",
       "      <td>0.000692</td>\n",
       "      <td>0.040002</td>\n",
       "      <td>0.040408</td>\n",
       "      <td>0.040920</td>\n",
       "      <td>0.041453</td>\n",
       "      <td>0.042875</td>\n",
       "    </tr>\n",
       "    <tr>\n",
       "      <td>2021-01-21 08:59</td>\n",
       "      <td>776.0</td>\n",
       "      <td>0.041496</td>\n",
       "      <td>0.000893</td>\n",
       "      <td>0.040001</td>\n",
       "      <td>0.040773</td>\n",
       "      <td>0.041363</td>\n",
       "      <td>0.042032</td>\n",
       "      <td>0.044260</td>\n",
       "    </tr>\n",
       "    <tr>\n",
       "      <td>2021-01-21 09:00</td>\n",
       "      <td>721.0</td>\n",
       "      <td>0.042846</td>\n",
       "      <td>0.001442</td>\n",
       "      <td>0.040048</td>\n",
       "      <td>0.041804</td>\n",
       "      <td>0.042729</td>\n",
       "      <td>0.043908</td>\n",
       "      <td>0.046935</td>\n",
       "    </tr>\n",
       "    <tr>\n",
       "      <td>2021-01-21 09:02</td>\n",
       "      <td>306.0</td>\n",
       "      <td>0.041138</td>\n",
       "      <td>0.000783</td>\n",
       "      <td>0.040007</td>\n",
       "      <td>0.040436</td>\n",
       "      <td>0.041076</td>\n",
       "      <td>0.041818</td>\n",
       "      <td>0.043246</td>\n",
       "    </tr>\n",
       "    <tr>\n",
       "      <td>2021-01-21 09:03</td>\n",
       "      <td>370.0</td>\n",
       "      <td>0.041188</td>\n",
       "      <td>0.000872</td>\n",
       "      <td>0.040003</td>\n",
       "      <td>0.040403</td>\n",
       "      <td>0.041085</td>\n",
       "      <td>0.041833</td>\n",
       "      <td>0.043231</td>\n",
       "    </tr>\n",
       "  </tbody>\n",
       "</table>\n",
       "</div>"
      ],
      "text/plain": [
       "                                                    SPREAD            \\\n",
       "                                                     count      mean   \n",
       "BUY_EXCHANGE SELL_EXCHANGE PAIR    MINUTE                              \n",
       "Binance      Kraken        BTC_EUR 2021-01-21 08:58  340.0  0.040991   \n",
       "                                   2021-01-21 08:59  776.0  0.041496   \n",
       "                                   2021-01-21 09:00  721.0  0.042846   \n",
       "                                   2021-01-21 09:02  306.0  0.041138   \n",
       "                                   2021-01-21 09:03  370.0  0.041188   \n",
       "\n",
       "                                                                         \\\n",
       "                                                          std       min   \n",
       "BUY_EXCHANGE SELL_EXCHANGE PAIR    MINUTE                                 \n",
       "Binance      Kraken        BTC_EUR 2021-01-21 08:58  0.000692  0.040002   \n",
       "                                   2021-01-21 08:59  0.000893  0.040001   \n",
       "                                   2021-01-21 09:00  0.001442  0.040048   \n",
       "                                   2021-01-21 09:02  0.000783  0.040007   \n",
       "                                   2021-01-21 09:03  0.000872  0.040003   \n",
       "\n",
       "                                                                         \\\n",
       "                                                          25%       50%   \n",
       "BUY_EXCHANGE SELL_EXCHANGE PAIR    MINUTE                                 \n",
       "Binance      Kraken        BTC_EUR 2021-01-21 08:58  0.040408  0.040920   \n",
       "                                   2021-01-21 08:59  0.040773  0.041363   \n",
       "                                   2021-01-21 09:00  0.041804  0.042729   \n",
       "                                   2021-01-21 09:02  0.040436  0.041076   \n",
       "                                   2021-01-21 09:03  0.040403  0.041085   \n",
       "\n",
       "                                                                         \n",
       "                                                          75%       max  \n",
       "BUY_EXCHANGE SELL_EXCHANGE PAIR    MINUTE                                \n",
       "Binance      Kraken        BTC_EUR 2021-01-21 08:58  0.041453  0.042875  \n",
       "                                   2021-01-21 08:59  0.042032  0.044260  \n",
       "                                   2021-01-21 09:00  0.043908  0.046935  \n",
       "                                   2021-01-21 09:02  0.041818  0.043246  \n",
       "                                   2021-01-21 09:03  0.041833  0.043231  "
      ]
     },
     "execution_count": 28,
     "metadata": {},
     "output_type": "execute_result"
    }
   ],
   "source": [
    "grouped.head()"
   ]
  },
  {
   "cell_type": "code",
   "execution_count": 35,
   "metadata": {},
   "outputs": [],
   "source": [
    "grouped = grouped[('SPREAD', 'mean')]"
   ]
  },
  {
   "cell_type": "code",
   "execution_count": 42,
   "metadata": {},
   "outputs": [],
   "source": [
    "combis = grouped.index.to_frame()"
   ]
  },
  {
   "cell_type": "code",
   "execution_count": 72,
   "metadata": {},
   "outputs": [],
   "source": [
    "combis.index = combis.index.droplevel(['PAIR', 'BUY_EXCHANGE', 'SELL_EXCHANGE'])"
   ]
  },
  {
   "cell_type": "code",
   "execution_count": 75,
   "metadata": {},
   "outputs": [],
   "source": [
    "combis = combis.drop(['MINUTE'], axis=1)"
   ]
  },
  {
   "cell_type": "code",
   "execution_count": 76,
   "metadata": {},
   "outputs": [
    {
     "data": {
      "text/plain": [
       "132"
      ]
     },
     "execution_count": 76,
     "metadata": {},
     "output_type": "execute_result"
    }
   ],
   "source": [
    "combis.size"
   ]
  },
  {
   "cell_type": "code",
   "execution_count": 78,
   "metadata": {},
   "outputs": [
    {
     "data": {
      "text/html": [
       "<div>\n",
       "<style scoped>\n",
       "    .dataframe tbody tr th:only-of-type {\n",
       "        vertical-align: middle;\n",
       "    }\n",
       "\n",
       "    .dataframe tbody tr th {\n",
       "        vertical-align: top;\n",
       "    }\n",
       "\n",
       "    .dataframe thead th {\n",
       "        text-align: right;\n",
       "    }\n",
       "</style>\n",
       "<table border=\"1\" class=\"dataframe\">\n",
       "  <thead>\n",
       "    <tr style=\"text-align: right;\">\n",
       "      <th></th>\n",
       "      <th>BUY_EXCHANGE</th>\n",
       "      <th>SELL_EXCHANGE</th>\n",
       "      <th>PAIR</th>\n",
       "    </tr>\n",
       "    <tr>\n",
       "      <th>MINUTE</th>\n",
       "      <th></th>\n",
       "      <th></th>\n",
       "      <th></th>\n",
       "    </tr>\n",
       "  </thead>\n",
       "  <tbody>\n",
       "    <tr>\n",
       "      <td>2021-01-21 08:58</td>\n",
       "      <td>Binance</td>\n",
       "      <td>Kraken</td>\n",
       "      <td>BTC_EUR</td>\n",
       "    </tr>\n",
       "    <tr>\n",
       "      <td>2021-01-21 08:59</td>\n",
       "      <td>Binance</td>\n",
       "      <td>Kraken</td>\n",
       "      <td>BTC_EUR</td>\n",
       "    </tr>\n",
       "    <tr>\n",
       "      <td>2021-01-21 09:00</td>\n",
       "      <td>Binance</td>\n",
       "      <td>Kraken</td>\n",
       "      <td>BTC_EUR</td>\n",
       "    </tr>\n",
       "    <tr>\n",
       "      <td>2021-01-21 09:02</td>\n",
       "      <td>Binance</td>\n",
       "      <td>Kraken</td>\n",
       "      <td>BTC_EUR</td>\n",
       "    </tr>\n",
       "    <tr>\n",
       "      <td>2021-01-21 09:03</td>\n",
       "      <td>Binance</td>\n",
       "      <td>Kraken</td>\n",
       "      <td>BTC_EUR</td>\n",
       "    </tr>\n",
       "  </tbody>\n",
       "</table>\n",
       "</div>"
      ],
      "text/plain": [
       "                 BUY_EXCHANGE SELL_EXCHANGE     PAIR\n",
       "MINUTE                                              \n",
       "2021-01-21 08:58      Binance        Kraken  BTC_EUR\n",
       "2021-01-21 08:59      Binance        Kraken  BTC_EUR\n",
       "2021-01-21 09:00      Binance        Kraken  BTC_EUR\n",
       "2021-01-21 09:02      Binance        Kraken  BTC_EUR\n",
       "2021-01-21 09:03      Binance        Kraken  BTC_EUR"
      ]
     },
     "execution_count": 78,
     "metadata": {},
     "output_type": "execute_result"
    }
   ],
   "source": [
    "combis.head()"
   ]
  },
  {
   "cell_type": "markdown",
   "metadata": {},
   "source": [
    "combis[\"EXCHANGES\"] = combis[\"BUY_EXCHANGE\"] + \"-\" + combis[\"SELL_EXCHANGE\"]"
   ]
  },
  {
   "cell_type": "code",
   "execution_count": 79,
   "metadata": {},
   "outputs": [],
   "source": [
    "combis[\"EXCHANGES\"] = combis[\"BUY_EXCHANGE\"] + \"-\" + combis[\"SELL_EXCHANGE\"]"
   ]
  },
  {
   "cell_type": "code",
   "execution_count": 81,
   "metadata": {},
   "outputs": [
    {
     "data": {
      "text/html": [
       "<div>\n",
       "<style scoped>\n",
       "    .dataframe tbody tr th:only-of-type {\n",
       "        vertical-align: middle;\n",
       "    }\n",
       "\n",
       "    .dataframe tbody tr th {\n",
       "        vertical-align: top;\n",
       "    }\n",
       "\n",
       "    .dataframe thead th {\n",
       "        text-align: right;\n",
       "    }\n",
       "</style>\n",
       "<table border=\"1\" class=\"dataframe\">\n",
       "  <thead>\n",
       "    <tr style=\"text-align: right;\">\n",
       "      <th></th>\n",
       "      <th>BUY_EXCHANGE</th>\n",
       "      <th>SELL_EXCHANGE</th>\n",
       "      <th>PAIR</th>\n",
       "      <th>EXCHANGES</th>\n",
       "    </tr>\n",
       "    <tr>\n",
       "      <th>MINUTE</th>\n",
       "      <th></th>\n",
       "      <th></th>\n",
       "      <th></th>\n",
       "      <th></th>\n",
       "    </tr>\n",
       "  </thead>\n",
       "  <tbody>\n",
       "    <tr>\n",
       "      <td>2021-01-21 08:58</td>\n",
       "      <td>Binance</td>\n",
       "      <td>Kraken</td>\n",
       "      <td>BTC_EUR</td>\n",
       "      <td>Binance-Kraken</td>\n",
       "    </tr>\n",
       "    <tr>\n",
       "      <td>2021-01-21 08:59</td>\n",
       "      <td>Binance</td>\n",
       "      <td>Kraken</td>\n",
       "      <td>BTC_EUR</td>\n",
       "      <td>Binance-Kraken</td>\n",
       "    </tr>\n",
       "    <tr>\n",
       "      <td>2021-01-21 09:00</td>\n",
       "      <td>Binance</td>\n",
       "      <td>Kraken</td>\n",
       "      <td>BTC_EUR</td>\n",
       "      <td>Binance-Kraken</td>\n",
       "    </tr>\n",
       "    <tr>\n",
       "      <td>2021-01-21 09:02</td>\n",
       "      <td>Binance</td>\n",
       "      <td>Kraken</td>\n",
       "      <td>BTC_EUR</td>\n",
       "      <td>Binance-Kraken</td>\n",
       "    </tr>\n",
       "    <tr>\n",
       "      <td>2021-01-21 09:03</td>\n",
       "      <td>Binance</td>\n",
       "      <td>Kraken</td>\n",
       "      <td>BTC_EUR</td>\n",
       "      <td>Binance-Kraken</td>\n",
       "    </tr>\n",
       "  </tbody>\n",
       "</table>\n",
       "</div>"
      ],
      "text/plain": [
       "                 BUY_EXCHANGE SELL_EXCHANGE     PAIR       EXCHANGES\n",
       "MINUTE                                                              \n",
       "2021-01-21 08:58      Binance        Kraken  BTC_EUR  Binance-Kraken\n",
       "2021-01-21 08:59      Binance        Kraken  BTC_EUR  Binance-Kraken\n",
       "2021-01-21 09:00      Binance        Kraken  BTC_EUR  Binance-Kraken\n",
       "2021-01-21 09:02      Binance        Kraken  BTC_EUR  Binance-Kraken\n",
       "2021-01-21 09:03      Binance        Kraken  BTC_EUR  Binance-Kraken"
      ]
     },
     "execution_count": 81,
     "metadata": {},
     "output_type": "execute_result"
    }
   ],
   "source": [
    "combis.head()"
   ]
  },
  {
   "cell_type": "code",
   "execution_count": 83,
   "metadata": {},
   "outputs": [],
   "source": [
    "combis = combis.drop(['BUY_EXCHANGE', 'SELL_EXCHANGE'], axis=1)"
   ]
  },
  {
   "cell_type": "code",
   "execution_count": 84,
   "metadata": {},
   "outputs": [
    {
     "data": {
      "text/html": [
       "<div>\n",
       "<style scoped>\n",
       "    .dataframe tbody tr th:only-of-type {\n",
       "        vertical-align: middle;\n",
       "    }\n",
       "\n",
       "    .dataframe tbody tr th {\n",
       "        vertical-align: top;\n",
       "    }\n",
       "\n",
       "    .dataframe thead th {\n",
       "        text-align: right;\n",
       "    }\n",
       "</style>\n",
       "<table border=\"1\" class=\"dataframe\">\n",
       "  <thead>\n",
       "    <tr style=\"text-align: right;\">\n",
       "      <th></th>\n",
       "      <th>PAIR</th>\n",
       "      <th>EXCHANGES</th>\n",
       "    </tr>\n",
       "    <tr>\n",
       "      <th>MINUTE</th>\n",
       "      <th></th>\n",
       "      <th></th>\n",
       "    </tr>\n",
       "  </thead>\n",
       "  <tbody>\n",
       "    <tr>\n",
       "      <td>2021-01-21 08:58</td>\n",
       "      <td>BTC_EUR</td>\n",
       "      <td>Binance-Kraken</td>\n",
       "    </tr>\n",
       "    <tr>\n",
       "      <td>2021-01-21 08:59</td>\n",
       "      <td>BTC_EUR</td>\n",
       "      <td>Binance-Kraken</td>\n",
       "    </tr>\n",
       "    <tr>\n",
       "      <td>2021-01-21 09:00</td>\n",
       "      <td>BTC_EUR</td>\n",
       "      <td>Binance-Kraken</td>\n",
       "    </tr>\n",
       "    <tr>\n",
       "      <td>2021-01-21 09:02</td>\n",
       "      <td>BTC_EUR</td>\n",
       "      <td>Binance-Kraken</td>\n",
       "    </tr>\n",
       "    <tr>\n",
       "      <td>2021-01-21 09:03</td>\n",
       "      <td>BTC_EUR</td>\n",
       "      <td>Binance-Kraken</td>\n",
       "    </tr>\n",
       "  </tbody>\n",
       "</table>\n",
       "</div>"
      ],
      "text/plain": [
       "                     PAIR       EXCHANGES\n",
       "MINUTE                                   \n",
       "2021-01-21 08:58  BTC_EUR  Binance-Kraken\n",
       "2021-01-21 08:59  BTC_EUR  Binance-Kraken\n",
       "2021-01-21 09:00  BTC_EUR  Binance-Kraken\n",
       "2021-01-21 09:02  BTC_EUR  Binance-Kraken\n",
       "2021-01-21 09:03  BTC_EUR  Binance-Kraken"
      ]
     },
     "execution_count": 84,
     "metadata": {},
     "output_type": "execute_result"
    }
   ],
   "source": [
    "combis.head()"
   ]
  },
  {
   "cell_type": "code",
   "execution_count": 85,
   "metadata": {},
   "outputs": [
    {
     "data": {
      "text/plain": [
       "<matplotlib.axes._subplots.AxesSubplot at 0x7f979df06310>"
      ]
     },
     "execution_count": 85,
     "metadata": {},
     "output_type": "execute_result"
    },
    {
     "data": {
      "image/png": "[encoded data removed]",
      "text/plain": [
       "<Figure size 432x288 with 1 Axes>"
      ]
     },
     "metadata": {
      "needs_background": "light"
     },
     "output_type": "display_data"
    }
   ],
   "source": [
    "combis[\"EXCHANGES\"].hist()"
   ]
  },
  {
   "cell_type": "code",
   "execution_count": 86,
   "metadata": {},
   "outputs": [
    {
     "data": {
      "text/html": [
       "<div>\n",
       "<style scoped>\n",
       "    .dataframe tbody tr th:only-of-type {\n",
       "        vertical-align: middle;\n",
       "    }\n",
       "\n",
       "    .dataframe tbody tr th {\n",
       "        vertical-align: top;\n",
       "    }\n",
       "\n",
       "    .dataframe thead th {\n",
       "        text-align: right;\n",
       "    }\n",
       "</style>\n",
       "<table border=\"1\" class=\"dataframe\">\n",
       "  <thead>\n",
       "    <tr style=\"text-align: right;\">\n",
       "      <th></th>\n",
       "      <th>PAIR</th>\n",
       "      <th>EXCHANGES</th>\n",
       "    </tr>\n",
       "  </thead>\n",
       "  <tbody>\n",
       "    <tr>\n",
       "      <td>count</td>\n",
       "      <td>44</td>\n",
       "      <td>44</td>\n",
       "    </tr>\n",
       "    <tr>\n",
       "      <td>unique</td>\n",
       "      <td>2</td>\n",
       "      <td>3</td>\n",
       "    </tr>\n",
       "    <tr>\n",
       "      <td>top</td>\n",
       "      <td>BTC_EUR</td>\n",
       "      <td>Bitstamp-Kraken</td>\n",
       "    </tr>\n",
       "    <tr>\n",
       "      <td>freq</td>\n",
       "      <td>40</td>\n",
       "      <td>19</td>\n",
       "    </tr>\n",
       "  </tbody>\n",
       "</table>\n",
       "</div>"
      ],
      "text/plain": [
       "           PAIR        EXCHANGES\n",
       "count        44               44\n",
       "unique        2                3\n",
       "top     BTC_EUR  Bitstamp-Kraken\n",
       "freq         40               19"
      ]
     },
     "execution_count": 86,
     "metadata": {},
     "output_type": "execute_result"
    }
   ],
   "source": [
    "combis.describe()"
   ]
  },
  {
   "cell_type": "code",
   "execution_count": 87,
   "metadata": {},
   "outputs": [
    {
     "data": {
      "text/plain": [
       "<matplotlib.axes._subplots.AxesSubplot at 0x7f979e28bb10>"
      ]
     },
     "execution_count": 87,
     "metadata": {},
     "output_type": "execute_result"
    },
    {
     "data": {
      "image/png": "[encoded data removed]",
      "text/plain": [
       "<Figure size 432x288 with 1 Axes>"
      ]
     },
     "metadata": {
      "needs_background": "light"
     },
     "output_type": "display_data"
    }
   ],
   "source": [
    "combis[\"PAIR\"].hist()"
   ]
  },
  {
   "cell_type": "code",
   "execution_count": 88,
   "metadata": {},
   "outputs": [
    {
     "data": {
      "text/plain": [
       "<matplotlib.axes._subplots.AxesSubplot at 0x7f979e275690>"
      ]
     },
     "execution_count": 88,
     "metadata": {},
     "output_type": "execute_result"
    },
    {
     "data": {
      "image/png": "[encoded data removed]",
      "text/plain": [
       "<Figure size 432x288 with 1 Axes>"
      ]
     },
     "metadata": {
      "needs_background": "light"
     },
     "output_type": "display_data"
    }
   ],
   "source": [
    "data[\"PAIR\"].hist()"
   ]
  },
  {
   "cell_type": "code",
   "execution_count": 90,
   "metadata": {},
   "outputs": [
    {
     "data": {
      "text/plain": [
       "203440"
      ]
     },
     "execution_count": 90,
     "metadata": {},
     "output_type": "execute_result"
    }
   ],
   "source": [
    "data"
   ]
  },
  {
   "cell_type": "code",
   "execution_count": 91,
   "metadata": {},
   "outputs": [],
   "source": [
    "all = pd.read_csv(\"LOG.csv\", sep=\";\")"
   ]
  },
  {
   "cell_type": "code",
   "execution_count": 92,
   "metadata": {},
   "outputs": [],
   "source": [
    "all[\"EXCHANGES\"] = all[\"BUY_EXCHANGE\"] + \"-\" + all[\"SELL_EXCHANGE\"]"
   ]
  },
  {
   "cell_type": "code",
   "execution_count": 93,
   "metadata": {},
   "outputs": [
    {
     "data": {
      "text/plain": [
       "<matplotlib.axes._subplots.AxesSubplot at 0x7f9a0f8315d0>"
      ]
     },
     "execution_count": 93,
     "metadata": {},
     "output_type": "execute_result"
    },
    {
     "data": {
      "image/png": "[encoded data removed]",
      "text/plain": [
       "<Figure size 432x288 with 1 Axes>"
      ]
     },
     "metadata": {
      "needs_background": "light"
     },
     "output_type": "display_data"
    }
   ],
   "source": [
    "all[\"EXCHANGES\"].hist()"
   ]
  },
  {
   "cell_type": "code",
   "execution_count": 94,
   "metadata": {},
   "outputs": [],
   "source": [
    "import matplotlib.pyplot as plt"
   ]
  },
  {
   "cell_type": "code",
   "execution_count": 95,
   "metadata": {},
   "outputs": [
    {
     "data": {
      "text/plain": [
       "([0, 1, 2, 3, 4, 5, 6, 7, 8, 9, 10, 11],\n",
       " <a list of 12 Text xticklabel objects>)"
      ]
     },
     "execution_count": 95,
     "metadata": {},
     "output_type": "execute_result"
    },
    {
     "data": {
      "image/png": "[encoded data removed]",
      "text/plain": [
       "<Figure size 432x288 with 1 Axes>"
      ]
     },
     "metadata": {
      "needs_background": "light"
     },
     "output_type": "display_data"
    }
   ],
   "source": [
    "p = plt.hist(all[\"EXCHANGES\"])\n",
    "plt.xticks(rotation='vertical')"
   ]
  },
  {
   "cell_type": "code",
   "execution_count": 96,
   "metadata": {},
   "outputs": [],
   "source": [
    "plt.show()"
   ]
  },
  {
   "cell_type": "code",
   "execution_count": 97,
   "metadata": {},
   "outputs": [
    {
     "data": {
      "text/plain": [
       "<matplotlib.axes._subplots.AxesSubplot at 0x7f990ddc4f50>"
      ]
     },
     "execution_count": 97,
     "metadata": {},
     "output_type": "execute_result"
    },
    {
     "data": {
      "image/png": "[encoded data removed]",
      "text/plain": [
       "<Figure size 432x288 with 1 Axes>"
      ]
     },
     "metadata": {
      "needs_background": "light"
     },
     "output_type": "display_data"
    }
   ],
   "source": [
    "all[\"PAIR\"].hist(xrot=90)"
   ]
  },
  {
   "cell_type": "code",
   "execution_count": null,
   "metadata": {},
   "outputs": [],
   "source": []
  }
 ],
 "metadata": {
  "kernelspec": {
   "display_name": "Python 3",
   "language": "python",
   "name": "python3"
  },
  "language_info": {
   "codemirror_mode": {
    "name": "ipython",
    "version": 3
   },
   "file_extension": ".py",
   "mimetype": "text/x-python",
   "name": "python",
   "nbconvert_exporter": "python",
   "pygments_lexer": "ipython3",
   "version": "3.7.4"
  }
 },
 "nbformat": 4,
 "nbformat_minor": 2
}
